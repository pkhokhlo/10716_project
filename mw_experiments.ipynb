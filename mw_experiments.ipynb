{
 "cells": [
  {
   "cell_type": "code",
   "execution_count": null,
   "id": "enabling-starter",
   "metadata": {},
   "outputs": [],
   "source": [
    "import numpy as np\n",
    "import matplotlib.pyplot as plt"
   ]
  },
  {
   "cell_type": "code",
   "execution_count": null,
   "id": "broken-madison",
   "metadata": {},
   "outputs": [],
   "source": [
    "from games import rock_paper_scissors, chicken_or_dare"
   ]
  },
  {
   "cell_type": "code",
   "execution_count": null,
   "id": "induced-ecology",
   "metadata": {},
   "outputs": [],
   "source": [
    "from agents import MWagent"
   ]
  },
  {
   "cell_type": "code",
   "execution_count": null,
   "id": "original-league",
   "metadata": {},
   "outputs": [],
   "source": [
    "def simulate_game(T, agents, game):\n",
    "    num_agents = len(agents)\n",
    "    all_weights = np.ones((num_agents, T, agents[0].num_actions))\n",
    "    all_scores = np.ones((num_agents, T))\n",
    "    assert(len(all_scores) == num_agents)\n",
    "    for t in range(T):\n",
    "        agent_actions = {}\n",
    "        for i, agent in enumerate(agents):\n",
    "            agent_actions[f'p{i + 1}_action'] = agent.get_action()\n",
    "        \n",
    "        scores = game(**agent_actions)\n",
    "        \n",
    "        assert(len(scores) == num_agents)\n",
    "        \n",
    "        for i, agent in enumerate(agents):\n",
    "            agent.update_weights(agent_actions[f'p{i + 1}_action'], scores[i])\n",
    "            all_weights[i, t, :] = agent.weights.copy()\n",
    "            all_scores[i, t] = scores[i]\n",
    "    return all_weights, all_scores"
   ]
  },
  {
   "cell_type": "markdown",
   "id": "ongoing-fellow",
   "metadata": {},
   "source": [
    "# Rock, Paper, Scissors experiments"
   ]
  },
  {
   "cell_type": "code",
   "execution_count": null,
   "id": "desirable-strain",
   "metadata": {},
   "outputs": [],
   "source": [
    "gamma = 0.01\n",
    "p1 = MWagent(\n",
    "    n_actions=3,\n",
    "    gamma=gamma,\n",
    ")\n",
    "p2 = MWagent(\n",
    "    n_actions=3,\n",
    "    gamma=gamma,\n",
    ")\n",
    "\n",
    "T = 10000\n",
    "\n",
    "weights, scores = simulate_game(T, [p1, p2], rock_paper_scissors)"
   ]
  },
  {
   "cell_type": "code",
   "execution_count": null,
   "id": "seventh-finger",
   "metadata": {},
   "outputs": [],
   "source": [
    "plt.figure()\n",
    "plt.plot(weights[0, :, 0], label='p1 0')\n",
    "plt.plot(weights[0, :, 1], label='p1 1')\n",
    "plt.plot(weights[0, :, 2], label='p1 2')\n",
    "plt.legend()\n",
    "plt.plot()"
   ]
  },
  {
   "cell_type": "code",
   "execution_count": null,
   "id": "developed-marking",
   "metadata": {},
   "outputs": [],
   "source": [
    "plt.figure()\n",
    "plt.plot(weights[1, :, 0], label='p2 0')\n",
    "plt.plot(weights[1, :, 1], label='p2 1')\n",
    "plt.plot(weights[1, :, 2], label='p2 2')\n",
    "plt.legend()\n",
    "plt.plot()"
   ]
  },
  {
   "cell_type": "markdown",
   "id": "tamil-speed",
   "metadata": {},
   "source": [
    "# Chicken or Dare"
   ]
  },
  {
   "cell_type": "code",
   "execution_count": null,
   "id": "caroline-reggae",
   "metadata": {},
   "outputs": [],
   "source": [
    "gamma = 0.001\n",
    "p1 = MWagent(\n",
    "    n_actions=2,\n",
    "    gamma=gamma,\n",
    ")\n",
    "p2 = MWagent(\n",
    "    n_actions=2,\n",
    "    gamma=gamma,\n",
    ")\n",
    "\n",
    "T = 10000\n",
    "\n",
    "weights, scores = simulate_game(T, [p1, p2], chicken_or_dare)"
   ]
  },
  {
   "cell_type": "code",
   "execution_count": null,
   "id": "informative-debate",
   "metadata": {},
   "outputs": [],
   "source": [
    "plt.figure()\n",
    "plt.plot(weights[0, :, 0], label='p1 0')\n",
    "plt.plot(weights[0, :, 1], label='p1 1')\n",
    "plt.legend()\n",
    "plt.plot()"
   ]
  },
  {
   "cell_type": "code",
   "execution_count": null,
   "id": "introductory-clear",
   "metadata": {},
   "outputs": [],
   "source": [
    "plt.figure()\n",
    "plt.plot(weights[1, :, 0], label='p2 0')\n",
    "plt.plot(weights[1, :, 1], label='p2 1')\n",
    "plt.legend()\n",
    "plt.plot()"
   ]
  },
  {
   "cell_type": "code",
   "execution_count": null,
   "id": "satisfied-entry",
   "metadata": {},
   "outputs": [],
   "source": []
  }
 ],
 "metadata": {
  "kernelspec": {
   "display_name": "Python 3",
   "language": "python",
   "name": "python3"
  },
  "language_info": {
   "codemirror_mode": {
    "name": "ipython",
    "version": 3
   },
   "file_extension": ".py",
   "mimetype": "text/x-python",
   "name": "python",
   "nbconvert_exporter": "python",
   "pygments_lexer": "ipython3",
   "version": "3.6.13"
  },
  "toc": {
   "base_numbering": 1,
   "nav_menu": {},
   "number_sections": true,
   "sideBar": true,
   "skip_h1_title": false,
   "title_cell": "Table of Contents",
   "title_sidebar": "Contents",
   "toc_cell": false,
   "toc_position": {},
   "toc_section_display": true,
   "toc_window_display": false
  }
 },
 "nbformat": 4,
 "nbformat_minor": 5
}
