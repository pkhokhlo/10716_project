{
 "cells": [
  {
   "cell_type": "code",
   "execution_count": null,
   "id": "enabling-starter",
   "metadata": {},
   "outputs": [],
   "source": [
    "import numpy as np\n",
    "import matplotlib.pyplot as plt\n",
    "import seaborn as sb"
   ]
  },
  {
   "cell_type": "code",
   "execution_count": null,
   "id": "stretch-bumper",
   "metadata": {},
   "outputs": [],
   "source": [
    "plt.rcParams['figure.figsize'] = np.array([12, 8])\n",
    "sb.set(rc={\"xtick.bottom\" : True,\n",
    "           \"ytick.left\" : True,\n",
    "           'axes.titlesize': 21,\n",
    "           'axes.labelsize': 20,\n",
    "           'xtick.labelsize': 18,\n",
    "           'ytick.labelsize': 18,\n",
    "           'legend.fontsize': 16,\n",
    "          }, style='whitegrid')"
   ]
  },
  {
   "cell_type": "code",
   "execution_count": null,
   "id": "broken-madison",
   "metadata": {},
   "outputs": [],
   "source": [
    "from games import rock_paper_scissors, chicken_or_dare"
   ]
  },
  {
   "cell_type": "code",
   "execution_count": null,
   "id": "induced-ecology",
   "metadata": {},
   "outputs": [],
   "source": [
    "class MWagent:\n",
    "    def __init__(self, n_actions, gamma):\n",
    "        self.num_actions = n_actions\n",
    "        self.weights = np.ones(n_actions)\n",
    "        self.gamma = gamma\n",
    "        self.action_space = np.array(range(self.num_actions))\n",
    "\n",
    "    def get_action(self):\n",
    "        probs = (1 - self.gamma) * self.weights / np.sum(self.weights) + self.gamma / self.num_actions\n",
    "        return np.random.choice(self.action_space, p=probs)\n",
    "\n",
    "    def update_weights(self, action, score):\n",
    "        x_hat = np.zeros(self.num_actions)\n",
    "        probs = (1 - self.gamma) * self.weights / np.sum(self.weights) + self.gamma / self.num_actions\n",
    "        x_hat[action] = score / probs[action]\n",
    "        self.weights *= np.exp(self.gamma * x_hat / self.num_actions)\n",
    "        self.weights /= np.sum(self.weights)"
   ]
  },
  {
   "cell_type": "code",
   "execution_count": null,
   "id": "original-league",
   "metadata": {},
   "outputs": [],
   "source": [
    "def simulate_game(T, agents, game):\n",
    "    num_agents = len(agents)\n",
    "    game_states = {\n",
    "        'weights': np.ones((num_agents, T, agents[0].num_actions)),\n",
    "        'scores': np.ones((num_agents, T)),\n",
    "        'actions': np.ones((num_agents, T)),\n",
    "    }\n",
    "    assert(len(game_states['scores']) == num_agents)\n",
    "    for t in range(T):\n",
    "        agent_actions = {}\n",
    "        for i, agent in enumerate(agents):\n",
    "            agent_actions[f'p{i + 1}_action'] = agent.get_action()\n",
    "            game_states['actions'][i, t] = agent_actions[f'p{i + 1}_action']\n",
    "        \n",
    "        scores = game(**agent_actions)\n",
    "        \n",
    "        assert(len(scores) == num_agents)\n",
    "        \n",
    "        for i, agent in enumerate(agents):\n",
    "            agent.update_weights(agent_actions[f'p{i + 1}_action'], scores[i])\n",
    "            game_states['weights'][i, t, :] = agent.weights.copy()\n",
    "            game_states['scores'][i, t] = scores[i]\n",
    "    return game_states"
   ]
  },
  {
   "cell_type": "markdown",
   "id": "delayed-diary",
   "metadata": {},
   "source": [
    "# External Regret"
   ]
  },
  {
   "cell_type": "markdown",
   "id": "ongoing-fellow",
   "metadata": {},
   "source": [
    "## Rock, Paper, Scissors experiments"
   ]
  },
  {
   "cell_type": "code",
   "execution_count": null,
   "id": "desirable-strain",
   "metadata": {},
   "outputs": [],
   "source": [
    "gamma = 0.01\n",
    "p1 = MWagent(\n",
    "    n_actions=3,\n",
    "    gamma=gamma,\n",
    ")\n",
    "p2 = MWagent(\n",
    "    n_actions=3,\n",
    "    gamma=gamma,\n",
    ")\n",
    "\n",
    "T = 1000000\n",
    "\n",
    "game_states_rps_exp3 = simulate_game(T, [p1, p2], rock_paper_scissors)"
   ]
  },
  {
   "cell_type": "code",
   "execution_count": null,
   "id": "seventh-finger",
   "metadata": {
    "hide_input": false
   },
   "outputs": [],
   "source": [
    "plt.figure()\n",
    "plt.plot(game_states_rps_exp3['weights'][0, :, 0], label='p1 0')\n",
    "plt.plot(game_states_rps_exp3['weights'][0, :, 1], label='p1 1')\n",
    "plt.plot(game_states_rps_exp3['weights'][0, :, 2], label='p1 2')\n",
    "plt.legend()\n",
    "plt.title('Weights over time')\n",
    "plt.xlabel('iteration')\n",
    "plt.ylabel('weight value')\n",
    "plt.plot()"
   ]
  },
  {
   "cell_type": "code",
   "execution_count": null,
   "id": "technological-friday",
   "metadata": {
    "hide_input": false
   },
   "outputs": [],
   "source": [
    "plt.figure()\n",
    "plt.plot(np.cumsum(game_states_rps_exp3['weights'][0, :, 0]) / np.arange(1, T + 1), label='rock')\n",
    "plt.plot(np.cumsum(game_states_rps_exp3['weights'][0, :, 1]) / np.arange(1, T + 1), label='paper')\n",
    "plt.plot(np.cumsum(game_states_rps_exp3['weights'][0, :, 2]) / np.arange(1, T + 1), label='scissors')\n",
    "#plt.axhline(1/3, linestyle='dashed', label='expectation')\n",
    "plt.legend()\n",
    "plt.title('Rock Paper Scissors Cumulative Mean of Agent 1 Weights')\n",
    "plt.xlabel('iteration')\n",
    "plt.ylabel('mean weight value')\n",
    "plt.plot()"
   ]
  },
  {
   "cell_type": "markdown",
   "id": "right-sustainability",
   "metadata": {},
   "source": [
    "###### player 1 external regret"
   ]
  },
  {
   "cell_type": "code",
   "execution_count": null,
   "id": "informative-wagon",
   "metadata": {},
   "outputs": [],
   "source": [
    "alt_cum_scores = {}\n",
    "for a in [0, 1, 2]:\n",
    "    alt_actions = [a] * T\n",
    "    opp_actions = game_states_rps_exp3['actions'][1, :].astype(int)\n",
    "    alt_scores = []\n",
    "    for i in range(T):\n",
    "        alt_scores.append(rock_paper_scissors(alt_actions[i], opp_actions[i]))\n",
    "    alt_cum_scores[a] = np.cumsum(np.array(alt_scores), axis=0)"
   ]
  },
  {
   "cell_type": "code",
   "execution_count": null,
   "id": "animated-rotation",
   "metadata": {},
   "outputs": [],
   "source": [
    "last_alt_cum_scores = [alt_cum_scores[i][-1, 0] for i in [0, 1, 2]]"
   ]
  },
  {
   "cell_type": "code",
   "execution_count": null,
   "id": "thick-channels",
   "metadata": {},
   "outputs": [],
   "source": [
    "best_action = np.argmax(last_alt_cum_scores)"
   ]
  },
  {
   "cell_type": "code",
   "execution_count": null,
   "id": "naughty-concept",
   "metadata": {},
   "outputs": [],
   "source": [
    "# regret for rock paper scissors is 1 - score\n",
    "# if loss, can choose a win (1 - 0) = 1\n",
    "# if tie, can choose win (1 - 0.5) = 0.5\n",
    "plt.figure()\n",
    "plt.plot(alt_cum_scores[best_action][:, 0] - np.cumsum(1 - game_states_rps_exp3['scores'][0, :]), label='player 1')\n",
    "plt.legend()\n",
    "plt.title('Cumulative External Regret Player 1')\n",
    "plt.xlabel('iteration')\n",
    "plt.ylabel('regret')\n",
    "plt.plot()"
   ]
  },
  {
   "cell_type": "markdown",
   "id": "tamil-speed",
   "metadata": {},
   "source": [
    "## Chicken or Dare"
   ]
  },
  {
   "cell_type": "code",
   "execution_count": null,
   "id": "caroline-reggae",
   "metadata": {},
   "outputs": [],
   "source": [
    "gamma = 0.001\n",
    "p1 = MWagent(\n",
    "    n_actions=2,\n",
    "    gamma=gamma,\n",
    ")\n",
    "p2 = MWagent(\n",
    "    n_actions=2,\n",
    "    gamma=gamma,\n",
    ")\n",
    "\n",
    "T = int(1e6)\n",
    "\n",
    "game_states_cd_exp3 = simulate_game(T, [p1, p2], chicken_or_dare)"
   ]
  },
  {
   "cell_type": "code",
   "execution_count": null,
   "id": "informative-debate",
   "metadata": {},
   "outputs": [],
   "source": [
    "plt.figure()\n",
    "plt.plot(game_states_cd_exp3['weights'][0, :, 0], label='p1 0')\n",
    "plt.plot(game_states_cd_exp3['weights'][0, :, 1], label='p1 1')\n",
    "plt.title('actual weights over time')\n",
    "plt.legend()\n",
    "plt.plot()"
   ]
  },
  {
   "cell_type": "code",
   "execution_count": null,
   "id": "introductory-clear",
   "metadata": {},
   "outputs": [],
   "source": [
    "plt.figure()\n",
    "plt.plot(np.cumsum(game_states_cd_exp3['weights'][0, :, 0]) / np.arange(1, T + 1), label='chicken')\n",
    "plt.plot(np.cumsum(game_states_cd_exp3['weights'][0, :, 1]) / np.arange(1, T + 1), label='dare')\n",
    "plt.legend()\n",
    "plt.title('Chicken or Dare Cumulative Mean of Agent 1 Weights')\n",
    "plt.xlabel('iteration')\n",
    "plt.ylabel('mean weight value')\n",
    "plt.plot()"
   ]
  },
  {
   "cell_type": "markdown",
   "id": "compound-composition",
   "metadata": {},
   "source": [
    "###### player 1 external regret"
   ]
  },
  {
   "cell_type": "code",
   "execution_count": null,
   "id": "altered-camcorder",
   "metadata": {},
   "outputs": [],
   "source": [
    "alt_cum_scores = {}\n",
    "for a in [0, 1]:\n",
    "    alt_actions = [a] * T\n",
    "    opp_actions = game_states_cd_exp3['actions'][1, :].astype(int)\n",
    "    alt_scores = []\n",
    "    for i in range(T):\n",
    "        alt_scores.append(chicken_or_dare(alt_actions[i], opp_actions[i]))\n",
    "    alt_cum_scores[a] = np.cumsum(np.array(alt_scores), axis=0)"
   ]
  },
  {
   "cell_type": "code",
   "execution_count": null,
   "id": "static-preliminary",
   "metadata": {},
   "outputs": [],
   "source": [
    "last_alt_cum_scores = [alt_cum_scores[i][-1, 0] for i in [0, 1]]"
   ]
  },
  {
   "cell_type": "code",
   "execution_count": null,
   "id": "impressed-death",
   "metadata": {},
   "outputs": [],
   "source": [
    "best_action = np.argmax(last_alt_cum_scores)"
   ]
  },
  {
   "cell_type": "code",
   "execution_count": null,
   "id": "painted-publication",
   "metadata": {
    "scrolled": false
   },
   "outputs": [],
   "source": [
    "plt.figure()\n",
    "plt.plot(alt_cum_scores[best_action][:, 0] - np.cumsum(1 - game_states_cd_exp3['scores'][0, :]), label='player 1')\n",
    "plt.legend()\n",
    "plt.title('Cumulative External Regret Player 1')\n",
    "plt.xlabel('iteration')\n",
    "plt.ylabel('regret')\n",
    "plt.plot()"
   ]
  },
  {
   "cell_type": "markdown",
   "id": "official-possession",
   "metadata": {},
   "source": [
    "# swap regret"
   ]
  },
  {
   "cell_type": "code",
   "execution_count": null,
   "id": "aggressive-satellite",
   "metadata": {},
   "outputs": [],
   "source": [
    "class RMagent:\n",
    "    def __init__(self, n_actions, mu):\n",
    "        self.num_actions = n_actions\n",
    "        self.weights = np.ones(n_actions) / n_actions\n",
    "        # diagonal will be null\n",
    "        self.regrets = np.zeros((n_actions, n_actions))\n",
    "        self.mu = mu\n",
    "        self.action_space = np.array(range(self.num_actions))\n",
    "        self.T = 0\n",
    "\n",
    "    def get_action(self):\n",
    "        probs = self.weights / np.sum(self.weights)\n",
    "        return np.random.choice(self.action_space, p=probs)\n",
    "\n",
    "    def update_weights(self, action, scores):\n",
    "        for swap in range(self.num_actions):\n",
    "            if swap == action:\n",
    "                continue\n",
    "            self.regrets[action, swap] = self.T / (self.T + 1) * self.regrets[action, swap] + 1 / (self.T + 1) * (scores[swap] - scores[action])\n",
    "        \n",
    "        for a in range(self.num_actions):\n",
    "            if a == action:\n",
    "                # element-wise max to account for 'positive' requirement\n",
    "                self.weights[a] = 1 - np.nansum(np.fmax(self.regrets[action, :], 0)) / self.mu\n",
    "                assert(self.weights[a] >= 0), self.weights[a]\n",
    "            else:\n",
    "                self.weights[a] = np.max([self.regrets[action, a], 0]) / self.mu\n",
    "                assert(self.weights[a] >= 0), self.weights[a]\n",
    "        self.T += 1"
   ]
  },
  {
   "cell_type": "code",
   "execution_count": null,
   "id": "coral-orange",
   "metadata": {},
   "outputs": [],
   "source": [
    "def simulate_game_rm(T, agents, game):\n",
    "    num_agents = len(agents)\n",
    "    game_states = {\n",
    "        'weights': np.ones((num_agents, T, agents[0].num_actions)),\n",
    "        'scores': np.ones((num_agents, T)),\n",
    "        'actions': np.ones((num_agents, T)),\n",
    "        'regrets': np.ones((num_agents, T, agents[0].num_actions, agents[0].num_actions)),\n",
    "    }\n",
    "    # assumes 2 agents for now\n",
    "    scores_matrix = np.ones((agents[0].num_actions, agents[0].num_actions, 2))\n",
    "    for i in range(agents[0].num_actions):\n",
    "        for j in range(agents[0].num_actions):\n",
    "            scores_matrix[i, j, :] = game(i, j)\n",
    "    assert(len(game_states['scores']) == num_agents)\n",
    "    for t in range(T):\n",
    "        agent_actions = {}\n",
    "        for i, agent in enumerate(agents):\n",
    "            agent_actions[f'p{i + 1}_action'] = agent.get_action()\n",
    "            game_states['actions'][i, t] = agent_actions[f'p{i + 1}_action']\n",
    "        \n",
    "        scores = scores_matrix[agent_actions['p1_action'], agent_actions['p2_action'], :]\n",
    "        \n",
    "        assert(len(scores) == num_agents)\n",
    "        \n",
    "        agents[0].update_weights(agent_actions['p1_action'], scores_matrix[:, agent_actions['p2_action'], 0])\n",
    "        game_states['weights'][0, t, :] = agents[0].weights.copy()\n",
    "        game_states['regrets'][0, t, :] = agents[0].regrets.copy()\n",
    "        \n",
    "        agents[1].update_weights(agent_actions['p2_action'], scores_matrix[agent_actions['p1_action'], :, 1])\n",
    "        game_states['weights'][1, t, :] = agents[1].weights.copy()\n",
    "        game_states['regrets'][1, t, :] = agents[1].regrets.copy()\n",
    "        \n",
    "        game_states['scores'][:, t] = scores\n",
    "    return game_states"
   ]
  },
  {
   "cell_type": "markdown",
   "id": "assisted-christmas",
   "metadata": {},
   "source": [
    "## Rock Paper Scissors"
   ]
  },
  {
   "cell_type": "code",
   "execution_count": null,
   "id": "exempt-pendant",
   "metadata": {},
   "outputs": [],
   "source": [
    "mu = 1.0001\n",
    "p1 = RMagent(\n",
    "    n_actions=3,\n",
    "    mu=mu,\n",
    ")\n",
    "p2 = RMagent(\n",
    "    n_actions=3,\n",
    "    mu=mu,\n",
    ")\n",
    "\n",
    "T = int(1e7)\n",
    "\n",
    "game_states_rps_rm = simulate_game_rm(T, [p1, p2], rock_paper_scissors)"
   ]
  },
  {
   "cell_type": "code",
   "execution_count": null,
   "id": "unauthorized-playback",
   "metadata": {},
   "outputs": [],
   "source": [
    "plt.figure()\n",
    "plt.plot(game_states_rps_rm['weights'][0, 100:300, 0], label='p1 0')\n",
    "plt.plot(game_states_rps_rm['weights'][0, 100:300, 1], label='p1 1')\n",
    "plt.plot(game_states_rps_rm['weights'][0, 100:300, 2], label='p1 2')\n",
    "plt.legend()\n",
    "plt.title('Rock Paper Scissors Agent 1 Weights')\n",
    "plt.xlabel('iteration')\n",
    "plt.ylabel('weight value')\n",
    "plt.plot()"
   ]
  },
  {
   "cell_type": "code",
   "execution_count": null,
   "id": "bulgarian-admission",
   "metadata": {},
   "outputs": [],
   "source": [
    "plt.figure()\n",
    "plt.plot(np.cumsum(game_states_rps_rm['weights'][0, :, 0]) / np.arange(1, T + 1), label='rock')\n",
    "plt.plot(np.cumsum(game_states_rps_rm['weights'][0, :, 1]) / np.arange(1, T + 1), label='paper')\n",
    "plt.plot(np.cumsum(game_states_rps_rm['weights'][0, :, 2]) / np.arange(1, T + 1), label='scissors')\n",
    "#plt.axhline(1/3, linestyle='dashed', label='expectation')\n",
    "plt.legend()\n",
    "plt.title('Rock Paper Scissors Cumulative Mean of Agent 1 Weights')\n",
    "plt.xlabel('iteration')\n",
    "plt.ylabel('mean weight value')\n",
    "plt.plot()"
   ]
  },
  {
   "cell_type": "markdown",
   "id": "unsigned-watts",
   "metadata": {},
   "source": [
    "###### cumulative internal regret"
   ]
  },
  {
   "cell_type": "code",
   "execution_count": null,
   "id": "loving-yorkshire",
   "metadata": {},
   "outputs": [],
   "source": [
    "regrets = game_states_rps_rm['regrets'].copy()"
   ]
  },
  {
   "cell_type": "code",
   "execution_count": null,
   "id": "still-financing",
   "metadata": {},
   "outputs": [],
   "source": [
    "regrets[:, :, 0, 0] = np.nan\n",
    "regrets[:, :, 1, 1] = np.nan\n",
    "regrets[:, :, 2, 2] = np.nan"
   ]
  },
  {
   "cell_type": "code",
   "execution_count": null,
   "id": "perceived-asthma",
   "metadata": {},
   "outputs": [],
   "source": [
    "plt.figure()\n",
    "plt.plot(np.sum(np.nanmin(regrets[0, :, :, :], 1), 1) * np.arange(1, T + 1), label='player 1')\n",
    "plt.legend()\n",
    "plt.title('Cumulative Internal Regret Player 1')\n",
    "plt.xlabel('iteration')\n",
    "plt.ylabel('regret')\n",
    "plt.plot()"
   ]
  },
  {
   "cell_type": "markdown",
   "id": "portable-proposal",
   "metadata": {},
   "source": [
    "## Chicken or Dare"
   ]
  },
  {
   "cell_type": "code",
   "execution_count": null,
   "id": "common-surface",
   "metadata": {},
   "outputs": [],
   "source": [
    "mu = 1.1\n",
    "p1 = RMagent(\n",
    "    n_actions=2,\n",
    "    mu=mu,\n",
    ")\n",
    "p2 = RMagent(\n",
    "    n_actions=2,\n",
    "    mu=mu,\n",
    ")\n",
    "\n",
    "T = int(1e4)\n",
    "\n",
    "game_states_cd_rm = simulate_game_rm(T, [p1, p2], chicken_or_dare)"
   ]
  },
  {
   "cell_type": "code",
   "execution_count": null,
   "id": "laughing-ozone",
   "metadata": {},
   "outputs": [],
   "source": [
    "plt.figure()\n",
    "plt.plot(game_states_cd_rm['weights'][0, :, 0], label='p1 0')\n",
    "plt.plot(game_states_cd_rm['weights'][0, :, 1], label='p1 1')\n",
    "plt.legend()\n",
    "plt.title('Chicken or Dare Agent 1 Weights')\n",
    "plt.xlabel('iteration')\n",
    "plt.ylabel('weight value')\n",
    "plt.plot()"
   ]
  },
  {
   "cell_type": "code",
   "execution_count": null,
   "id": "charitable-coating",
   "metadata": {},
   "outputs": [],
   "source": [
    "plt.figure()\n",
    "plt.plot(np.cumsum(game_states_cd_rm['weights'][0, :, 0]) / np.arange(1, T + 1), label='p1 0')\n",
    "plt.plot(np.cumsum(game_states_cd_rm['weights'][0, :, 1]) / np.arange(1, T + 1), label='p1 1')\n",
    "plt.legend()\n",
    "plt.title('Chicken or Dare Cumulative Mean of Agent 1 Weights')\n",
    "plt.xlabel('iteration')\n",
    "plt.ylabel('mean weight value')\n",
    "plt.plot()"
   ]
  },
  {
   "cell_type": "markdown",
   "id": "stretch-cabin",
   "metadata": {},
   "source": [
    "###### cumulative internal regret"
   ]
  },
  {
   "cell_type": "code",
   "execution_count": null,
   "id": "expressed-publisher",
   "metadata": {},
   "outputs": [],
   "source": [
    "regrets = game_states_cd_rm['regrets'].copy()"
   ]
  },
  {
   "cell_type": "code",
   "execution_count": null,
   "id": "cognitive-impression",
   "metadata": {},
   "outputs": [],
   "source": [
    "regrets[:, :, 0, 0] = np.nan\n",
    "regrets[:, :, 1, 1] = np.nan"
   ]
  },
  {
   "cell_type": "code",
   "execution_count": null,
   "id": "received-heating",
   "metadata": {},
   "outputs": [],
   "source": [
    "plt.figure()\n",
    "plt.plot(np.sum(np.nanmin(regrets[0, :, :, :], 1), 1) * np.arange(1, T + 1), label='player 1')\n",
    "plt.legend()\n",
    "plt.title('Cumulative Internal Regret Player 1')\n",
    "plt.xlabel('iteration')\n",
    "plt.ylabel('regret')\n",
    "plt.plot()"
   ]
  },
  {
   "cell_type": "markdown",
   "id": "british-feelings",
   "metadata": {},
   "source": [
    "TODO\n",
    "\n",
    "- cumulative regret vs time plot\n",
    "    - plot function $C\\sqrt{T}$ (cumulative)\n",
    "    - choose large $C$ so that value is always below\n",
    "    - Keegan thinks for simple games it will be much better than $\\sqrt{T}$\n",
    "- hyperparameters for rock paper scissors\n",
    "- calculate rolling average strategy over time (save strategy at all time step)\n",
    "    - want this to converge\n",
    "- run for >> 100k\n",
    "\n",
    "for regret, any accumulation, take max of 0 and that value (strictly positive deltas)\n",
    "\n",
    "plots to show in report\n",
    "1. *RPS avg policy over time for exp3 for player 1 (3 lines)\n",
    "1. *chicken avg policy over time for exp3 for player 1 (2 lines)\n",
    "1. cumulative external and swap (internal) regret (both games on same plot) so four lines\n",
    "1. RPS avg policy over time for Regret Matching for player 1 (3 lines)\n",
    "1. chicken avg policy over time for Regret Matching for player 1 (2 lines)"
   ]
  }
 ],
 "metadata": {
  "kernelspec": {
   "display_name": "Python 3",
   "language": "python",
   "name": "python3"
  },
  "language_info": {
   "codemirror_mode": {
    "name": "ipython",
    "version": 3
   },
   "file_extension": ".py",
   "mimetype": "text/x-python",
   "name": "python",
   "nbconvert_exporter": "python",
   "pygments_lexer": "ipython3",
   "version": "3.6.13"
  },
  "toc": {
   "base_numbering": 1,
   "nav_menu": {},
   "number_sections": true,
   "sideBar": true,
   "skip_h1_title": false,
   "title_cell": "Table of Contents",
   "title_sidebar": "Contents",
   "toc_cell": false,
   "toc_position": {},
   "toc_section_display": true,
   "toc_window_display": false
  }
 },
 "nbformat": 4,
 "nbformat_minor": 5
}
