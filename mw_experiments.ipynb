{
 "cells": [
  {
   "cell_type": "code",
   "execution_count": null,
   "id": "enabling-starter",
   "metadata": {},
   "outputs": [],
   "source": [
    "import numpy as np\n",
    "import matplotlib.pyplot as plt\n",
    "import seaborn as sb"
   ]
  },
  {
   "cell_type": "code",
   "execution_count": null,
   "id": "stretch-bumper",
   "metadata": {},
   "outputs": [],
   "source": [
    "plt.rcParams['figure.figsize'] = np.array([12, 8])\n",
    "sb.set(rc={\"xtick.bottom\" : True,\n",
    "           \"ytick.left\" : True,\n",
    "           'axes.titlesize': 21,\n",
    "           'axes.labelsize': 20,\n",
    "           'xtick.labelsize': 18,\n",
    "           'ytick.labelsize': 18,\n",
    "           'legend.fontsize': 16,\n",
    "          }, style='whitegrid')"
   ]
  },
  {
   "cell_type": "code",
   "execution_count": null,
   "id": "broken-madison",
   "metadata": {},
   "outputs": [],
   "source": [
    "from games import rock_paper_scissors, chicken_or_dare"
   ]
  },
  {
   "cell_type": "code",
   "execution_count": null,
   "id": "induced-ecology",
   "metadata": {},
   "outputs": [],
   "source": [
    "class MWagent:\n",
    "    def __init__(self, n_actions, gamma):\n",
    "        self.num_actions = n_actions\n",
    "        self.weights = np.ones(n_actions)\n",
    "        self.gamma = gamma\n",
    "        self.action_space = np.array(range(self.num_actions))\n",
    "\n",
    "    def get_action(self):\n",
    "        probs = (1 - self.gamma) * self.weights / np.sum(self.weights) + self.gamma / self.num_actions\n",
    "        return np.random.choice(self.action_space, p=probs)\n",
    "\n",
    "    def update_weights(self, action, score):\n",
    "        x_hat = np.zeros(self.num_actions)\n",
    "        probs = (1 - self.gamma) * self.weights / np.sum(self.weights) + self.gamma / self.num_actions\n",
    "        x_hat[action] = score / probs[action]\n",
    "        self.weights *= np.exp(self.gamma * x_hat / self.num_actions)\n",
    "        self.weights /= np.sum(self.weights)"
   ]
  },
  {
   "cell_type": "code",
   "execution_count": null,
   "id": "original-league",
   "metadata": {},
   "outputs": [],
   "source": [
    "def simulate_game(T, agents, game):\n",
    "    num_agents = len(agents)\n",
    "    game_states = {\n",
    "        'weights': np.ones((num_agents, T, agents[0].num_actions)),\n",
    "        'scores': np.ones((num_agents, T)),\n",
    "        'actions': np.ones((num_agents, T)),\n",
    "    }\n",
    "    assert(len(game_states['scores']) == num_agents)\n",
    "    for t in range(T):\n",
    "        agent_actions = {}\n",
    "        for i, agent in enumerate(agents):\n",
    "            agent_actions[f'p{i + 1}_action'] = agent.get_action()\n",
    "            game_states['actions'][i, t] = agent_actions[f'p{i + 1}_action']\n",
    "        \n",
    "        scores = game(**agent_actions)\n",
    "        \n",
    "        assert(len(scores) == num_agents)\n",
    "        \n",
    "        for i, agent in enumerate(agents):\n",
    "            agent.update_weights(agent_actions[f'p{i + 1}_action'], scores[i])\n",
    "            game_states['weights'][i, t, :] = agent.weights.copy()\n",
    "            game_states['scores'][i, t] = scores[i]\n",
    "    return game_states"
   ]
  },
  {
   "cell_type": "markdown",
   "id": "delayed-diary",
   "metadata": {},
   "source": [
    "# External Regret"
   ]
  },
  {
   "cell_type": "markdown",
   "id": "ongoing-fellow",
   "metadata": {},
   "source": [
    "## Rock, Paper, Scissors experiments"
   ]
  },
  {
   "cell_type": "code",
   "execution_count": null,
   "id": "desirable-strain",
   "metadata": {},
   "outputs": [],
   "source": [
    "gamma = 0.01\n",
    "p1 = MWagent(\n",
    "    n_actions=3,\n",
    "    gamma=gamma,\n",
    ")\n",
    "p2 = MWagent(\n",
    "    n_actions=3,\n",
    "    gamma=gamma,\n",
    ")\n",
    "\n",
    "T = int(1e6)\n",
    "\n",
    "game_states_rps_exp3 = simulate_game(T, [p1, p2], rock_paper_scissors)"
   ]
  },
  {
   "cell_type": "code",
   "execution_count": null,
   "id": "seventh-finger",
   "metadata": {
    "hide_input": false
   },
   "outputs": [],
   "source": [
    "plt.figure()\n",
    "plt.plot(game_states_rps_exp3['weights'][0, :, 0], label='p1 0')\n",
    "plt.plot(game_states_rps_exp3['weights'][0, :, 1], label='p1 1')\n",
    "plt.plot(game_states_rps_exp3['weights'][0, :, 2], label='p1 2')\n",
    "plt.legend()\n",
    "plt.title('Weights over time')\n",
    "plt.xlabel('iteration')\n",
    "plt.ylabel('weight value')\n",
    "plt.plot()"
   ]
  },
  {
   "cell_type": "code",
   "execution_count": null,
   "id": "technological-friday",
   "metadata": {
    "hide_input": false
   },
   "outputs": [],
   "source": [
    "plt.figure()\n",
    "plt.plot(np.cumsum(game_states_rps_exp3['weights'][0, :, 0]) / np.arange(1, T + 1), label='rock')\n",
    "plt.plot(np.cumsum(game_states_rps_exp3['weights'][0, :, 1]) / np.arange(1, T + 1), label='paper')\n",
    "plt.plot(np.cumsum(game_states_rps_exp3['weights'][0, :, 2]) / np.arange(1, T + 1), label='scissors')\n",
    "#plt.axhline(1/3, linestyle='dashed', label='expectation')\n",
    "plt.legend()\n",
    "plt.title('Rock Paper Scissors Cumulative Mean of Agent 1 Weights')\n",
    "plt.xlabel('iteration')\n",
    "plt.ylabel('mean weight value')\n",
    "plt.plot()"
   ]
  },
  {
   "cell_type": "markdown",
   "id": "right-sustainability",
   "metadata": {},
   "source": [
    "###### player 1 external regret"
   ]
  },
  {
   "cell_type": "code",
   "execution_count": null,
   "id": "informative-wagon",
   "metadata": {},
   "outputs": [],
   "source": [
    "alt_scores_rps = {}\n",
    "for a in [0, 1, 2]:\n",
    "    opp_actions = game_states_rps_exp3['actions'][1, :].astype(int)\n",
    "    alt_scores_rps[a] = []\n",
    "    for i in range(1000000):\n",
    "        alt_scores_rps[a].append(rock_paper_scissors(a, opp_actions[i]))\n",
    "    alt_scores_rps[a] = np.array(alt_scores_rps[a]).T"
   ]
  },
  {
   "cell_type": "code",
   "execution_count": null,
   "id": "animated-rotation",
   "metadata": {},
   "outputs": [],
   "source": [
    "last_alt_cum_scores = [np.sum(alt_scores_rps[i][0, :]) for i in [0, 1, 2]]"
   ]
  },
  {
   "cell_type": "code",
   "execution_count": null,
   "id": "thick-channels",
   "metadata": {},
   "outputs": [],
   "source": [
    "best_action_rps = np.argmax(last_alt_cum_scores)"
   ]
  },
  {
   "cell_type": "code",
   "execution_count": null,
   "id": "naughty-concept",
   "metadata": {},
   "outputs": [],
   "source": [
    "plt.figure()\n",
    "plt.plot(np.cumsum(np.fmax(alt_scores_rps[best_action_rps][0, :] - game_states_rps_exp3['scores'][0, :], 0)), label='Rock Paper Scissors External')\n",
    "plt.legend()\n",
    "plt.title('Cumulative External Regret Player 1')\n",
    "plt.xlabel('iteration')\n",
    "plt.ylabel('regret')\n",
    "plt.plot()"
   ]
  },
  {
   "cell_type": "code",
   "execution_count": null,
   "id": "broadband-desktop",
   "metadata": {},
   "outputs": [],
   "source": [
    "plt.figure()\n",
    "plt.plot(np.cumsum(alt_scores_rps[best_action_rps][0, :] - game_states_rps_exp3['scores'][0, :]), label='Rock Paper Scissors External')\n",
    "plt.legend()\n",
    "plt.title('Cumulative External Regret Player 1')\n",
    "plt.xlabel('iteration')\n",
    "plt.ylabel('regret')\n",
    "plt.plot()"
   ]
  },
  {
   "cell_type": "markdown",
   "id": "tamil-speed",
   "metadata": {},
   "source": [
    "## Chicken or Dare"
   ]
  },
  {
   "cell_type": "code",
   "execution_count": null,
   "id": "caroline-reggae",
   "metadata": {},
   "outputs": [],
   "source": [
    "gamma = 0.001\n",
    "p1 = MWagent(\n",
    "    n_actions=2,\n",
    "    gamma=gamma,\n",
    ")\n",
    "p2 = MWagent(\n",
    "    n_actions=2,\n",
    "    gamma=gamma,\n",
    ")\n",
    "\n",
    "T = int(1e6)\n",
    "\n",
    "game_states_cd_exp3 = simulate_game(T, [p1, p2], chicken_or_dare)"
   ]
  },
  {
   "cell_type": "code",
   "execution_count": null,
   "id": "informative-debate",
   "metadata": {},
   "outputs": [],
   "source": [
    "plt.figure()\n",
    "plt.plot(game_states_cd_exp3['weights'][0, :, 0], label='p1 0')\n",
    "plt.plot(game_states_cd_exp3['weights'][0, :, 1], label='p1 1')\n",
    "plt.title('actual weights over time')\n",
    "plt.legend()\n",
    "plt.plot()"
   ]
  },
  {
   "cell_type": "code",
   "execution_count": null,
   "id": "introductory-clear",
   "metadata": {},
   "outputs": [],
   "source": [
    "plt.figure()\n",
    "plt.plot(np.cumsum(game_states_cd_exp3['weights'][0, :, 0]) / np.arange(1, T + 1), label='dare')\n",
    "plt.plot(np.cumsum(game_states_cd_exp3['weights'][0, :, 1]) / np.arange(1, T + 1), label='chicken')\n",
    "plt.legend()\n",
    "plt.title('Chicken or Dare Cumulative Mean of Agent 1 Weights')\n",
    "plt.xlabel('iteration')\n",
    "plt.ylabel('mean weight value')\n",
    "plt.plot()"
   ]
  },
  {
   "cell_type": "markdown",
   "id": "compound-composition",
   "metadata": {},
   "source": [
    "###### player 1 external regret"
   ]
  },
  {
   "cell_type": "code",
   "execution_count": null,
   "id": "pacific-thompson",
   "metadata": {
    "code_folding": []
   },
   "outputs": [],
   "source": [
    "alt_scores_cd = {}\n",
    "for a in [0, 1]:\n",
    "    opp_actions = game_states_cd_exp3['actions'][1, :].astype(int)\n",
    "    alt_scores_cd[a] = []\n",
    "    for i in range(int(1e6)):\n",
    "        alt_scores_cd[a].append(chicken_or_dare(a, opp_actions[i]))\n",
    "    alt_scores_cd[a] = np.array(alt_scores_cd[a]).T"
   ]
  },
  {
   "cell_type": "code",
   "execution_count": null,
   "id": "objective-excitement",
   "metadata": {},
   "outputs": [],
   "source": [
    "last_alt_cum_scores = [np.sum(alt_scores_cd[i][0, :]) for i in [0, 1]]"
   ]
  },
  {
   "cell_type": "code",
   "execution_count": null,
   "id": "photographic-uruguay",
   "metadata": {},
   "outputs": [],
   "source": [
    "best_action_cd = np.argmax(last_alt_cum_scores)"
   ]
  },
  {
   "cell_type": "code",
   "execution_count": null,
   "id": "concrete-individual",
   "metadata": {},
   "outputs": [],
   "source": [
    "plt.figure()\n",
    "plt.plot(np.cumsum(np.fmax(alt_scores[best_action_cd][0, :] - game_states_cd_exp3['scores'][0, :], 0)), label='Chicken or Dare External')\n",
    "plt.legend()\n",
    "plt.title('Cumulative External Regret Player 1')\n",
    "plt.xlabel('iteration')\n",
    "plt.ylabel('regret')\n",
    "plt.plot()"
   ]
  },
  {
   "cell_type": "code",
   "execution_count": null,
   "id": "familiar-sailing",
   "metadata": {},
   "outputs": [],
   "source": [
    "plt.figure()\n",
    "plt.plot(np.cumsum(alt_scores_cd[best_action_cd][0, :] - game_states_cd_exp3['scores'][0, :]), label='Chicken or Dare External')\n",
    "plt.legend()\n",
    "plt.title('Cumulative External Regret Player 1')\n",
    "plt.xlabel('iteration')\n",
    "plt.ylabel('regret')\n",
    "plt.plot()"
   ]
  },
  {
   "cell_type": "markdown",
   "id": "official-possession",
   "metadata": {},
   "source": [
    "# swap regret"
   ]
  },
  {
   "cell_type": "code",
   "execution_count": null,
   "id": "aggressive-satellite",
   "metadata": {},
   "outputs": [],
   "source": [
    "class RMagent:\n",
    "    def __init__(self, n_actions, mu):\n",
    "        self.num_actions = n_actions\n",
    "        self.weights = np.ones(n_actions) / n_actions\n",
    "        # diagonal will be null\n",
    "        self.regrets = np.zeros((n_actions, n_actions))\n",
    "        self.mu = mu\n",
    "        self.action_space = np.array(range(self.num_actions))\n",
    "        self.T = 0\n",
    "\n",
    "    def get_action(self):\n",
    "        probs = self.weights / np.sum(self.weights)\n",
    "        return np.random.choice(self.action_space, p=probs)\n",
    "\n",
    "    def update_weights(self, action, scores):\n",
    "        for swap in range(self.num_actions):\n",
    "            if swap == action:\n",
    "                continue\n",
    "            self.regrets[action, swap] = self.T / (self.T + 1) * self.regrets[action, swap] + 1 / (self.T + 1) * (scores[swap] - scores[action])\n",
    "        \n",
    "        for a in range(self.num_actions):\n",
    "            if a == action:\n",
    "                # element-wise max to account for 'positive' requirement\n",
    "                self.weights[a] = 1 - np.nansum(np.fmax(self.regrets[action, :], 0)) / self.mu\n",
    "                assert(self.weights[a] >= 0), self.weights[a]\n",
    "            else:\n",
    "                self.weights[a] = np.max([self.regrets[action, a], 0]) / self.mu\n",
    "                assert(self.weights[a] >= 0), self.weights[a]\n",
    "        self.T += 1"
   ]
  },
  {
   "cell_type": "code",
   "execution_count": null,
   "id": "coral-orange",
   "metadata": {},
   "outputs": [],
   "source": [
    "def simulate_game_rm(T, agents, game):\n",
    "    num_agents = len(agents)\n",
    "    game_states = {\n",
    "        'weights': np.ones((num_agents, T, agents[0].num_actions)),\n",
    "        'scores': np.ones((num_agents, T)),\n",
    "        'actions': np.ones((num_agents, T)),\n",
    "        'regrets': np.ones((num_agents, T, agents[0].num_actions, agents[0].num_actions)),\n",
    "    }\n",
    "    # assumes 2 agents for now\n",
    "    scores_matrix = np.ones((agents[0].num_actions, agents[0].num_actions, 2))\n",
    "    for i in range(agents[0].num_actions):\n",
    "        for j in range(agents[0].num_actions):\n",
    "            scores_matrix[i, j, :] = game(i, j)\n",
    "    assert(len(game_states['scores']) == num_agents)\n",
    "    for t in range(T):\n",
    "        agent_actions = {}\n",
    "        for i, agent in enumerate(agents):\n",
    "            agent_actions[f'p{i + 1}_action'] = agent.get_action()\n",
    "            game_states['actions'][i, t] = agent_actions[f'p{i + 1}_action']\n",
    "        \n",
    "        scores = scores_matrix[agent_actions['p1_action'], agent_actions['p2_action'], :]\n",
    "        \n",
    "        assert(len(scores) == num_agents)\n",
    "        \n",
    "        agents[0].update_weights(agent_actions['p1_action'], scores_matrix[:, agent_actions['p2_action'], 0])\n",
    "        game_states['weights'][0, t, :] = agents[0].weights.copy()\n",
    "        game_states['regrets'][0, t, :] = agents[0].regrets.copy()\n",
    "        \n",
    "        agents[1].update_weights(agent_actions['p2_action'], scores_matrix[agent_actions['p1_action'], :, 1])\n",
    "        game_states['weights'][1, t, :] = agents[1].weights.copy()\n",
    "        game_states['regrets'][1, t, :] = agents[1].regrets.copy()\n",
    "        \n",
    "        game_states['scores'][:, t] = scores\n",
    "    return game_states"
   ]
  },
  {
   "cell_type": "markdown",
   "id": "minimal-uzbekistan",
   "metadata": {},
   "source": [
    "## Rock Paper Scissors"
   ]
  },
  {
   "cell_type": "code",
   "execution_count": null,
   "id": "exempt-pendant",
   "metadata": {
    "scrolled": true
   },
   "outputs": [],
   "source": [
    "mu = 0.5\n",
    "p1 = RMagent(\n",
    "    n_actions=3,\n",
    "    mu=mu,\n",
    ")\n",
    "p2 = RMagent(\n",
    "    n_actions=3,\n",
    "    mu=mu,\n",
    ")\n",
    "\n",
    "T = int(2e6)\n",
    "\n",
    "i = 0\n",
    "passed = False\n",
    "while not passed:\n",
    "    try:\n",
    "        p1 = RMagent(\n",
    "            n_actions=3,\n",
    "            mu=mu,\n",
    "        )\n",
    "        p2 = RMagent(\n",
    "            n_actions=3,\n",
    "            mu=mu,\n",
    "        )\n",
    "        print(i)\n",
    "        game_states_rps_rm2 = simulate_game_rm(T, [p1, p2], rock_paper_scissors)\n",
    "        passed = True\n",
    "    except AssertionError:\n",
    "        i += 1\n",
    "        continue"
   ]
  },
  {
   "cell_type": "code",
   "execution_count": null,
   "id": "unauthorized-playback",
   "metadata": {},
   "outputs": [],
   "source": [
    "plt.figure()\n",
    "plt.plot(game_states_rps_rm2['weights'][0, :, 0], label='p1 0')\n",
    "plt.plot(game_states_rps_rm2['weights'][0, :, 1], label='p1 1')\n",
    "plt.plot(game_states_rps_rm2['weights'][0, :, 2], label='p1 2')\n",
    "plt.legend()\n",
    "plt.title('Rock Paper Scissors Agent 1 Weights')\n",
    "plt.xlabel('iteration')\n",
    "plt.ylabel('weight value')\n",
    "plt.plot()"
   ]
  },
  {
   "cell_type": "code",
   "execution_count": null,
   "id": "bulgarian-admission",
   "metadata": {},
   "outputs": [],
   "source": [
    "plt.figure()\n",
    "plt.plot(np.cumsum(game_states_rps_rm2['weights'][0, :, 0]) / np.arange(1, T + 1), label='rock')\n",
    "plt.plot(np.cumsum(game_states_rps_rm2['weights'][0, :, 1]) / np.arange(1, T + 1), label='paper')\n",
    "plt.plot(np.cumsum(game_states_rps_rm2['weights'][0, :, 2]) / np.arange(1, T + 1), label='scissors')\n",
    "#plt.axhline(1/3, linestyle='dashed', label='expectation')\n",
    "plt.legend()\n",
    "plt.title('Rock Paper Scissors Cumulative Mean of Agent 1 Weights')\n",
    "plt.xlabel('iteration')\n",
    "plt.ylabel('mean weight value')\n",
    "plt.plot()"
   ]
  },
  {
   "cell_type": "markdown",
   "id": "level-royal",
   "metadata": {},
   "source": [
    "###### internal regret positive"
   ]
  },
  {
   "cell_type": "code",
   "execution_count": null,
   "id": "sunrise-calcium",
   "metadata": {},
   "outputs": [],
   "source": [
    "regrets = game_states_rps_rm['regrets'].copy()\n",
    "\n",
    "regrets[:, :, 0, 0] = 0\n",
    "regrets[:, :, 1, 1] = 0\n",
    "regrets[:, :, 2, 2] = 0\n",
    "\n",
    "regrets_copy = regrets.copy()\n",
    "\n",
    "for i in range(regrets_copy.shape[1]):\n",
    "    regrets_copy[0, i, :, :] *= (i + 1)\n",
    "\n",
    "reg_diff = np.diff(regrets_copy[0, :, :, :], axis=0)\n",
    "\n",
    "reg_diff_pos = np.fmax(reg_diff, 0)\n",
    "\n",
    "reg_argmax = np.nanargmax(regrets[0, :, :, :], 2)\n",
    "\n",
    "rps_rm_pos_reg = []\n",
    "for reg_mat, arg_vec in zip(reg_diff_pos, reg_argmax):\n",
    "    rps_rm_pos_reg.append(reg_mat[[[0], [1], [2]], arg_vec.reshape(3, 1)])\n",
    "rps_rm_pos_reg = np.array(rps_rm_pos_reg)"
   ]
  },
  {
   "cell_type": "code",
   "execution_count": null,
   "id": "returning-masters",
   "metadata": {},
   "outputs": [],
   "source": [
    "plt.figure()\n",
    "plt.plot(np.cumsum(np.sum(rps_rm_pos_reg, 1).reshape((-1, ))), label='Rock Paper Scissors Internal')\n",
    "plt.legend()\n",
    "plt.title('Cumulative Internal Regret Player 1')\n",
    "plt.xlabel('iteration')\n",
    "plt.ylabel('regret')\n",
    "plt.plot()"
   ]
  },
  {
   "cell_type": "markdown",
   "id": "retained-wholesale",
   "metadata": {},
   "source": [
    "###### internal regret regular"
   ]
  },
  {
   "cell_type": "code",
   "execution_count": null,
   "id": "latin-survivor",
   "metadata": {},
   "outputs": [],
   "source": [
    "regrets = game_states_rps_rm2['regrets'].copy()\n",
    "\n",
    "regrets[:, :, 0, 0] = 0\n",
    "regrets[:, :, 1, 1] = 0\n",
    "regrets[:, :, 2, 2] = 0\n",
    "\n",
    "regrets_copy = regrets.copy()\n",
    "\n",
    "for i in range(regrets_copy.shape[1]):\n",
    "    regrets_copy[0, i, :, :] *= (i + 1)\n",
    "\n",
    "reg_diff = np.diff(regrets_copy[0, :, :, :], axis=0)\n",
    "\n",
    "reg_argmax = np.nanargmax(regrets[0, :, :, :], 2)\n",
    "\n",
    "rps_rm_reg = []\n",
    "for reg_mat, arg_vec in zip(reg_diff, reg_argmax):\n",
    "    rps_rm_reg.append(reg_mat[[[0], [1], [2]], arg_vec.reshape(3, 1)])\n",
    "rps_rm_reg = np.array(rps_rm_reg)"
   ]
  },
  {
   "cell_type": "code",
   "execution_count": null,
   "id": "collaborative-iraqi",
   "metadata": {},
   "outputs": [],
   "source": [
    "plt.figure()\n",
    "plt.plot(np.cumsum(np.sum(rps_rm_reg, 1).reshape((-1, ))), label='Rock Paper Scissors Internal')\n",
    "plt.legend()\n",
    "plt.title('Cumulative Internal Regret Player 1')\n",
    "plt.xlabel('iteration')\n",
    "plt.ylabel('regret')\n",
    "plt.plot()"
   ]
  },
  {
   "cell_type": "markdown",
   "id": "multiple-stamp",
   "metadata": {},
   "source": [
    "## Chicken or Dare"
   ]
  },
  {
   "cell_type": "code",
   "execution_count": null,
   "id": "violent-dryer",
   "metadata": {},
   "outputs": [],
   "source": [
    "mu = 1.001\n",
    "p1 = RMagent(\n",
    "    n_actions=2,\n",
    "    mu=mu,\n",
    ")\n",
    "p2 = RMagent(\n",
    "    n_actions=2,\n",
    "    mu=mu,\n",
    ")\n",
    "\n",
    "T = int(1e4)\n",
    "\n",
    "game_states_cd_rm = simulate_game_rm(T, [p1, p2], chicken_or_dare)"
   ]
  },
  {
   "cell_type": "code",
   "execution_count": null,
   "id": "entitled-cholesterol",
   "metadata": {},
   "outputs": [],
   "source": [
    "plt.figure()\n",
    "plt.plot(game_states_cd_rm['weights'][0, :, 0], label='p1 0')\n",
    "plt.plot(game_states_cd_rm['weights'][0, :, 1], label='p1 1')\n",
    "plt.legend()\n",
    "plt.title('Chicken or Dare Agent 1 Weights')\n",
    "plt.xlabel('iteration')\n",
    "plt.ylabel('weight value')\n",
    "plt.plot()"
   ]
  },
  {
   "cell_type": "code",
   "execution_count": null,
   "id": "recovered-appraisal",
   "metadata": {},
   "outputs": [],
   "source": [
    "plt.figure()\n",
    "plt.plot(np.cumsum(game_states_cd_rm['weights'][0, :, 0]) / np.arange(1, 10000 + 1), label='dare')\n",
    "plt.plot(np.cumsum(game_states_cd_rm['weights'][0, :, 1]) / np.arange(1, 10000 + 1), label='chicken')\n",
    "plt.legend()\n",
    "plt.title('Chicken or Dare Cumulative Mean of Agent 1 Weights')\n",
    "plt.xlabel('iteration')\n",
    "plt.ylabel('mean weight value')\n",
    "plt.plot()"
   ]
  },
  {
   "cell_type": "markdown",
   "id": "serial-ideal",
   "metadata": {},
   "source": [
    "###### internal regret positive"
   ]
  },
  {
   "cell_type": "code",
   "execution_count": null,
   "id": "recorded-corps",
   "metadata": {},
   "outputs": [],
   "source": [
    "regrets = game_states_cd_rm['regrets'].copy()"
   ]
  },
  {
   "cell_type": "code",
   "execution_count": null,
   "id": "requested-cleaning",
   "metadata": {},
   "outputs": [],
   "source": [
    "regrets[:, :, 0, 0] = 0\n",
    "regrets[:, :, 1, 1] = 0"
   ]
  },
  {
   "cell_type": "code",
   "execution_count": null,
   "id": "pointed-daisy",
   "metadata": {},
   "outputs": [],
   "source": [
    "regrets_copy = regrets.copy()"
   ]
  },
  {
   "cell_type": "code",
   "execution_count": null,
   "id": "comparable-modern",
   "metadata": {},
   "outputs": [],
   "source": [
    "for i in range(regrets_copy.shape[1]):\n",
    "    regrets_copy[0, i, :, :] *= (i + 1)"
   ]
  },
  {
   "cell_type": "code",
   "execution_count": null,
   "id": "fifth-performance",
   "metadata": {},
   "outputs": [],
   "source": [
    "reg_diff = np.diff(regrets_copy[0, :, :, :], axis=0)"
   ]
  },
  {
   "cell_type": "code",
   "execution_count": null,
   "id": "ignored-preparation",
   "metadata": {},
   "outputs": [],
   "source": [
    "reg_diff_pos = np.fmax(reg_diff, 0)"
   ]
  },
  {
   "cell_type": "code",
   "execution_count": null,
   "id": "portuguese-simple",
   "metadata": {},
   "outputs": [],
   "source": [
    "reg_argmax = np.nanargmax(regrets_copy[0, :, :, :], 2)"
   ]
  },
  {
   "cell_type": "code",
   "execution_count": null,
   "id": "narrative-investor",
   "metadata": {},
   "outputs": [],
   "source": [
    "cd_rm_pos_reg = []\n",
    "for reg_mat, arg_vec in zip(reg_diff_pos, reg_argmax):\n",
    "    cd_rm_pos_reg.append(reg_mat[[[0], [1]], arg_vec.reshape(2, 1)])\n",
    "cd_rm_pos_reg = np.array(cd_rm_pos_reg)"
   ]
  },
  {
   "cell_type": "code",
   "execution_count": null,
   "id": "patent-drawing",
   "metadata": {},
   "outputs": [],
   "source": [
    "plt.figure()\n",
    "plt.plot(np.cumsum(np.sum(cd_rm_pos_reg, 1).reshape((-1, ))), label='Chicken or Dare Internal')\n",
    "plt.legend()\n",
    "plt.title('Cumulative Internal Regret Player 1')\n",
    "plt.xlabel('iteration')\n",
    "plt.ylabel('regret')\n",
    "plt.plot()"
   ]
  },
  {
   "cell_type": "markdown",
   "id": "removed-housing",
   "metadata": {},
   "source": [
    "###### internal regret regular"
   ]
  },
  {
   "cell_type": "code",
   "execution_count": null,
   "id": "golden-aircraft",
   "metadata": {},
   "outputs": [],
   "source": [
    "regrets = game_states_cd_rm['regrets'].copy()\n",
    "\n",
    "regrets[:, :, 0, 0] = 0\n",
    "regrets[:, :, 1, 1] = 0\n",
    "\n",
    "regrets_copy = regrets.copy()\n",
    "\n",
    "for i in range(regrets_copy.shape[1]):\n",
    "    regrets_copy[0, i, :, :] *= (i + 1)\n",
    "\n",
    "reg_diff = np.diff(regrets_copy[0, :, :, :], axis=0)\n",
    "\n",
    "reg_argmax = np.nanargmax(regrets_copy[0, :, :, :], 2)\n",
    "\n",
    "cd_rm_reg = []\n",
    "for reg_mat, arg_vec in zip(reg_diff, reg_argmax):\n",
    "    cd_rm_reg.append(reg_mat[[[0], [1]], arg_vec.reshape(2, 1)])\n",
    "cd_rm_reg = np.array(cd_rm_reg)"
   ]
  },
  {
   "cell_type": "code",
   "execution_count": null,
   "id": "confused-soundtrack",
   "metadata": {},
   "outputs": [],
   "source": [
    "plt.figure()\n",
    "plt.plot(np.cumsum(np.sum(cd_rm_reg, 1).reshape((-1, ))), label='Chicken or Dare Internal')\n",
    "plt.legend()\n",
    "plt.title('Cumulative Internal Regret Player 1')\n",
    "plt.xlabel('iteration')\n",
    "plt.ylabel('regret')\n",
    "plt.plot()"
   ]
  },
  {
   "cell_type": "markdown",
   "id": "collectible-bracket",
   "metadata": {},
   "source": [
    "# REGRET PLOT"
   ]
  },
  {
   "cell_type": "markdown",
   "id": "dated-minimum",
   "metadata": {},
   "source": [
    "## positive"
   ]
  },
  {
   "cell_type": "code",
   "execution_count": null,
   "id": "heated-disney",
   "metadata": {},
   "outputs": [],
   "source": [
    "fig = plt.figure()\n",
    "cd_rm_T = cd_rm_pos_reg.shape[0]\n",
    "rps_rm_T = rps_rm_pos_reg.shape[0]\n",
    "cd_exp3_T = alt_scores_cd[best_action_cd].shape[1]\n",
    "rps_exp3_T = alt_scores_rps[best_action_rps].shape[1]\n",
    "min_T = np.min([cd_rm_T, rps_rm_T, cd_exp3_T, rps_exp3_T])\n",
    "plt.plot(np.linspace(0, 1, cd_rm_T), min_T / cd_rm_T * np.cumsum(np.sum(cd_rm_pos_reg, 1).reshape((-1, ))), label='Chicken or Dare Internal')\n",
    "plt.plot(np.linspace(0, 1, rps_rm_T), min_T / rps_rm_T * np.cumsum(np.sum(rps_rm_pos_reg, 1).reshape((-1, ))), label='Rock Paper Scissors Internal')\n",
    "plt.plot(np.linspace(0, 1, cd_exp3_T), min_T / cd_exp3_T * np.cumsum(np.fmax(alt_scores_cd[best_action_cd][0, :] - game_states_cd_exp3['scores'][0, :], 0)), label='Chicken or Dare External')\n",
    "plt.plot(np.linspace(0, 1, rps_exp3_T), min_T / rps_exp3_T * np.cumsum(np.fmax(alt_scores_rps[best_action_rps][0, :] - game_states_rps_exp3['scores'][0, :], 0)), label='Rock Paper Scissors External')\n",
    "ax = fig.get_axes()\n",
    "#plt.tick_params(labelbottom=False)\n",
    "ax[0].set_xticklabels(['','','','', '', '', 'T'])\n",
    "plt.legend()\n",
    "plt.yscale(\"log\")\n",
    "plt.title('Cumulative Regret')\n",
    "plt.xlabel('iteration')\n",
    "plt.ylabel('regret (log scale)')\n",
    "plt.plot()"
   ]
  },
  {
   "cell_type": "markdown",
   "id": "documented-attitude",
   "metadata": {},
   "source": [
    "## normal"
   ]
  },
  {
   "cell_type": "code",
   "execution_count": null,
   "id": "coated-thanksgiving",
   "metadata": {},
   "outputs": [],
   "source": [
    "plt.plot(np.cumsum(alt_scores_cd[best_action_cd][0, :] - game_states_cd_exp3['scores'][0, :]), label='Chicken or Dare External')"
   ]
  },
  {
   "cell_type": "code",
   "execution_count": null,
   "id": "beautiful-salon",
   "metadata": {},
   "outputs": [],
   "source": [
    "fig = plt.figure()\n",
    "#cd_rm_T = cd_rm_reg.shape[0]\n",
    "#rps_rm_T = rps_rm_reg.shape[0]\n",
    "cd_exp3_T = alt_scores_cd[best_action_cd].shape[1]\n",
    "rps_exp3_T = alt_scores_rps[best_action_rps].shape[1]\n",
    "min_T = np.min([cd_exp3_T, rps_exp3_T])#cd_rm_T, rps_rm_T, \n",
    "#plt.plot(np.linspace(0, 1, cd_rm_T), min_T / cd_rm_T * np.cumsum(np.sum(cd_rm_reg, 1).reshape((-1, ))), label='Chicken or Dare Internal')\n",
    "#plt.plot(np.linspace(0, 1, rps_rm_T), min_T / rps_rm_T * np.cumsum(np.sum(rps_rm_reg, 1).reshape((-1, ))), label='Rock Paper Scissors Internal')\n",
    "plt.plot(np.linspace(0, 1, cd_exp3_T), min_T / cd_exp3_T * np.cumsum(alt_scores_cd[best_action_cd][0, :] - game_states_cd_exp3['scores'][0, :]), label='Chicken or Dare External')\n",
    "plt.plot(np.linspace(0, 1, rps_exp3_T), min_T / rps_exp3_T * np.cumsum(alt_scores_rps[best_action_rps][0, :] - game_states_rps_exp3['scores'][0, :]), label='Rock Paper Scissors External')\n",
    "plt.plot(np.linspace(0, 1, 1000), 4000 * np.sqrt(np.linspace(0, 1, 1000)), label=r'$C\\sqrt{T}$')\n",
    "ax = fig.get_axes()\n",
    "#plt.tick_params(labelbottom=False)\n",
    "ax[0].set_xticklabels(['', '', '', '', '', '', 'T'])\n",
    "plt.legend()\n",
    "plt.title('Cumulative Regret')\n",
    "plt.xlabel('iteration')\n",
    "plt.ylabel('regret')\n",
    "plt.plot()"
   ]
  }
 ],
 "metadata": {
  "kernelspec": {
   "display_name": "Python 3",
   "language": "python",
   "name": "python3"
  },
  "language_info": {
   "codemirror_mode": {
    "name": "ipython",
    "version": 3
   },
   "file_extension": ".py",
   "mimetype": "text/x-python",
   "name": "python",
   "nbconvert_exporter": "python",
   "pygments_lexer": "ipython3",
   "version": "3.6.13"
  },
  "toc": {
   "base_numbering": 1,
   "nav_menu": {},
   "number_sections": true,
   "sideBar": true,
   "skip_h1_title": false,
   "title_cell": "Table of Contents",
   "title_sidebar": "Contents",
   "toc_cell": false,
   "toc_position": {},
   "toc_section_display": true,
   "toc_window_display": false
  }
 },
 "nbformat": 4,
 "nbformat_minor": 5
}
